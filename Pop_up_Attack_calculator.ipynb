{
 "cells": [
  {
   "cell_type": "code",
   "execution_count": null,
   "id": "initial_id",
   "metadata": {
    "collapsed": true
   },
   "outputs": [],
   "source": [
    "import math\n",
    "\n",
    "def calculate_all():\n",
    "    # Constants\n",
    "    g = 32.2  # fps^2\n",
    "\n",
    "    # User inputs\n",
    "    dive_angle = float(input(\"Enter dive angle (in degrees): \"))\n",
    "    climb_angle = float(input(\"Enter climb angle (in degrees): \"))\n",
    "    TAS = float(input(\"Enter TAS (in knots): \"))\n",
    "    GR = float(input(\"Enter cockpit G: \"))\n",
    "    tracking_time = float(input(\"Enter tracking time (in seconds): \"))\n",
    "    release_altitude = 2000\n",
    "    bomb_range = float(input(\"Enter bomb range (in feet): \"))\n",
    "\n",
    "    # Calculations\n",
    "    GS = round(TAS * math.cos(math.radians(dive_angle))) # Ground Speed (GS)\n",
    "    vertical_tracking_distance = round(GS * math.sin(math.radians(dive_angle)) * 1.69 * tracking_time)\n",
    "    track_point_altitude = round(release_altitude + vertical_tracking_distance)\n",
    "    apex_altitude = round(track_point_altitude + (dive_angle * 50))\n",
    "    pull_down_altitude = round(apex_altitude - (climb_angle * 50))\n",
    "    pop_to_pull_down_distance = round((apex_altitude * 60) / climb_angle)\n",
    "    turn_radius = round(((TAS * 1.69) ** 2) / (g * GR))\n",
    "    tracking_distance = round(1.69 * GS * tracking_time)\n",
    "    MAP_distance = round(bomb_range + tracking_distance)\n",
    "    AOD = round((release_altitude / math.tan(math.radians(dive_angle))) - bomb_range)\n",
    "    vertical_tracking_distance = round(TAS * math.sin(math.radians(dive_angle)) * 1.69 * tracking_time)\n",
    "    angle_off = round(2 * (climb_angle + 5))\n",
    "\n",
    "    print(f\"Track point altitude: {track_point_altitude} feet\")\n",
    "    print(f\"Apex altitude: {apex_altitude} feet\")\n",
    "    print(f\"Pull-down altitude: {pull_down_altitude} feet\")\n",
    "    print(f\"Pop-to-pull-down distance: {pop_to_pull_down_distance} feet\")\n",
    "    print(f\"Turn radius: {turn_radius} feet\")\n",
    "    print(f\"Ground Speed (GS): {GS} knots\")\n",
    "    print(f\"Tracking distance: {tracking_distance} feet\")\n",
    "    print(f\"MAP distance: {MAP_distance} feet\")\n",
    "    print(f\"AOD: {AOD} feet\")\n",
    "    print(f\"Vertical tracking distance: {vertical_tracking_distance} feet\")\n",
    "    print(f\"Angle-off: {angle_off} degrees\")\n",
    "\n",
    "# Call the function\n",
    "calculate_all()"
   ]
  }
 ],
 "metadata": {
  "kernelspec": {
   "display_name": "Python 3",
   "language": "python",
   "name": "python3"
  },
  "language_info": {
   "codemirror_mode": {
    "name": "ipython",
    "version": 2
   },
   "file_extension": ".py",
   "mimetype": "text/x-python",
   "name": "python",
   "nbconvert_exporter": "python",
   "pygments_lexer": "ipython2",
   "version": "2.7.6"
  }
 },
 "nbformat": 4,
 "nbformat_minor": 5
}
